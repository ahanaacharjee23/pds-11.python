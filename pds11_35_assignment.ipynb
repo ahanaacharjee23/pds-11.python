{
  "nbformat": 4,
  "nbformat_minor": 0,
  "metadata": {
    "colab": {
      "provenance": [],
      "authorship_tag": "ABX9TyOrzzu/+x9dMddIgjn9fi83",
      "include_colab_link": true
    },
    "kernelspec": {
      "name": "python3",
      "display_name": "Python 3"
    },
    "language_info": {
      "name": "python"
    }
  },
  "cells": [
    {
      "cell_type": "markdown",
      "metadata": {
        "id": "view-in-github",
        "colab_type": "text"
      },
      "source": [
        "<a href=\"https://colab.research.google.com/github/ahanaacharjee23/pds-11.python/blob/main/pds11_35_assignment.ipynb\" target=\"_parent\"><img src=\"https://colab.research.google.com/assets/colab-badge.svg\" alt=\"Open In Colab\"/></a>"
      ]
    },
    {
      "cell_type": "code",
      "execution_count": null,
      "metadata": {
        "id": "UkOSwJ4BQiyl"
      },
      "outputs": [],
      "source": [
        "import pandas as pd\n",
        "import matplotlib.pyplot as plt\n",
        "\n",
        "# Assuming df is your DataFrame\n",
        "# 1. Add a new column 'Number of relatives' by summing 'SibSp' and 'Parch'\n",
        "df['Number of relatives'] = df['SibSp'] + df['Parch']\n",
        "\n",
        "# 2. Filter for passengers who are dead (Survived == 0)\n",
        "dead_passengers = df[df['Survived'] == 0]\n",
        "\n",
        "# 3. Plot a scatter plot for the dead passengers\n",
        "plt.figure(figsize=(10, 6))\n",
        "plt.scatter(dead_passengers['Number of relatives'], dead_passengers['Age'], alpha=0.5)\n",
        "plt.title('Number of Relatives vs Age for Dead Passengers')\n",
        "plt.xlabel('Number of Relatives')\n",
        "plt.ylabel('Age')\n",
        "plt.grid(True)\n",
        "plt.show()\n"
      ]
    }
  ]
}